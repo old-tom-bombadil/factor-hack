{
  "nbformat": 4,
  "nbformat_minor": 0,
  "metadata": {
    "orig_nbformat": 2,
    "file_extension": ".py",
    "mimetype": "text/x-python",
    "name": "python",
    "npconvert_exporter": "python",
    "pygments_lexer": "ipython3",
    "version": 3,
    "kernelspec": {
      "name": "python3",
      "display_name": "Python 3"
    },
    "colab": {
      "name": "Copy of nonlinear-regression.ipynb",
      "provenance": [],
      "collapsed_sections": [],
      "toc_visible": true,
      "include_colab_link": true
    }
  },
  "cells": [
    {
      "cell_type": "markdown",
      "metadata": {
        "id": "view-in-github",
        "colab_type": "text"
      },
      "source": [
        "<a href=\"https://colab.research.google.com/github/old-tom-bombadil/factor-hack/blob/main/Copy_of_nonlinear_regression.ipynb\" target=\"_parent\"><img src=\"https://colab.research.google.com/assets/colab-badge.svg\" alt=\"Open In Colab\"/></a>"
      ]
    },
    {
      "cell_type": "markdown",
      "metadata": {
        "id": "uhB3iZZsWAWe"
      },
      "source": [
        "# Non linear regression / curve fitting\n",
        "\n",
        "You'll find more information and detailed explainations on [my blog](https://lucidar.me/en/neural-networks/curve-fitting-nonlinear-regression/).\n",
        "\n",
        "[Video of the expected result](https://youtu.be/7z86Lxzf_2o)\n"
      ]
    },
    {
      "cell_type": "markdown",
      "metadata": {
        "id": "2pqhyoFbW4eA"
      },
      "source": [
        "## Check/install TensorFlow version\n",
        "**Must be version 2.1.0**\n"
      ]
    },
    {
      "cell_type": "code",
      "metadata": {
        "id": "UuSy9cgA60Sy",
        "colab": {
          "base_uri": "https://localhost:8080/",
          "height": 1000
        },
        "outputId": "94d720d8-2408-4af3-a8f4-0ef9d91e70ef"
      },
      "source": [
        "# Switch the TensorFlow version 2.1\n",
        "!pip install tensorflow==2.1.0"
      ],
      "execution_count": 4,
      "outputs": [
        {
          "output_type": "stream",
          "text": [
            "Collecting tensorflow==2.1.0\n",
            "\u001b[?25l  Downloading https://files.pythonhosted.org/packages/85/d4/c0cd1057b331bc38b65478302114194bd8e1b9c2bbc06e300935c0e93d90/tensorflow-2.1.0-cp36-cp36m-manylinux2010_x86_64.whl (421.8MB)\n",
            "\u001b[K     |████████████████████████████████| 421.8MB 26kB/s \n",
            "\u001b[?25hCollecting gast==0.2.2\n",
            "  Downloading https://files.pythonhosted.org/packages/4e/35/11749bf99b2d4e3cceb4d55ca22590b0d7c2c62b9de38ac4a4a7f4687421/gast-0.2.2.tar.gz\n",
            "Collecting tensorboard<2.2.0,>=2.1.0\n",
            "\u001b[?25l  Downloading https://files.pythonhosted.org/packages/d9/41/bbf49b61370e4f4d245d4c6051dfb6db80cec672605c91b1652ac8cc3d38/tensorboard-2.1.1-py3-none-any.whl (3.8MB)\n",
            "\u001b[K     |████████████████████████████████| 3.9MB 44.3MB/s \n",
            "\u001b[?25hRequirement already satisfied: opt-einsum>=2.3.2 in /usr/local/lib/python3.6/dist-packages (from tensorflow==2.1.0) (3.3.0)\n",
            "Requirement already satisfied: wheel>=0.26; python_version >= \"3\" in /usr/local/lib/python3.6/dist-packages (from tensorflow==2.1.0) (0.36.2)\n",
            "Requirement already satisfied: google-pasta>=0.1.6 in /usr/local/lib/python3.6/dist-packages (from tensorflow==2.1.0) (0.2.0)\n",
            "Requirement already satisfied: wrapt>=1.11.1 in /usr/local/lib/python3.6/dist-packages (from tensorflow==2.1.0) (1.12.1)\n",
            "Requirement already satisfied: six>=1.12.0 in /usr/local/lib/python3.6/dist-packages (from tensorflow==2.1.0) (1.15.0)\n",
            "Requirement already satisfied: protobuf>=3.8.0 in /usr/local/lib/python3.6/dist-packages (from tensorflow==2.1.0) (3.12.4)\n",
            "Requirement already satisfied: grpcio>=1.8.6 in /usr/local/lib/python3.6/dist-packages (from tensorflow==2.1.0) (1.32.0)\n",
            "Requirement already satisfied: keras-preprocessing>=1.1.0 in /usr/local/lib/python3.6/dist-packages (from tensorflow==2.1.0) (1.1.2)\n",
            "Requirement already satisfied: numpy<2.0,>=1.16.0 in /usr/local/lib/python3.6/dist-packages (from tensorflow==2.1.0) (1.19.4)\n",
            "Requirement already satisfied: absl-py>=0.7.0 in /usr/local/lib/python3.6/dist-packages (from tensorflow==2.1.0) (0.10.0)\n",
            "Collecting tensorflow-estimator<2.2.0,>=2.1.0rc0\n",
            "\u001b[?25l  Downloading https://files.pythonhosted.org/packages/18/90/b77c328a1304437ab1310b463e533fa7689f4bfc41549593056d812fab8e/tensorflow_estimator-2.1.0-py2.py3-none-any.whl (448kB)\n",
            "\u001b[K     |████████████████████████████████| 450kB 32.3MB/s \n",
            "\u001b[?25hRequirement already satisfied: termcolor>=1.1.0 in /usr/local/lib/python3.6/dist-packages (from tensorflow==2.1.0) (1.1.0)\n",
            "Requirement already satisfied: astor>=0.6.0 in /usr/local/lib/python3.6/dist-packages (from tensorflow==2.1.0) (0.8.1)\n",
            "Requirement already satisfied: scipy==1.4.1; python_version >= \"3\" in /usr/local/lib/python3.6/dist-packages (from tensorflow==2.1.0) (1.4.1)\n",
            "Collecting keras-applications>=1.0.8\n",
            "\u001b[?25l  Downloading https://files.pythonhosted.org/packages/71/e3/19762fdfc62877ae9102edf6342d71b28fbfd9dea3d2f96a882ce099b03f/Keras_Applications-1.0.8-py3-none-any.whl (50kB)\n",
            "\u001b[K     |████████████████████████████████| 51kB 3.9MB/s \n",
            "\u001b[?25hRequirement already satisfied: markdown>=2.6.8 in /usr/local/lib/python3.6/dist-packages (from tensorboard<2.2.0,>=2.1.0->tensorflow==2.1.0) (3.3.3)\n",
            "Requirement already satisfied: werkzeug>=0.11.15 in /usr/local/lib/python3.6/dist-packages (from tensorboard<2.2.0,>=2.1.0->tensorflow==2.1.0) (1.0.1)\n",
            "Requirement already satisfied: google-auth-oauthlib<0.5,>=0.4.1 in /usr/local/lib/python3.6/dist-packages (from tensorboard<2.2.0,>=2.1.0->tensorflow==2.1.0) (0.4.2)\n",
            "Requirement already satisfied: google-auth<2,>=1.6.3 in /usr/local/lib/python3.6/dist-packages (from tensorboard<2.2.0,>=2.1.0->tensorflow==2.1.0) (1.17.2)\n",
            "Requirement already satisfied: requests<3,>=2.21.0 in /usr/local/lib/python3.6/dist-packages (from tensorboard<2.2.0,>=2.1.0->tensorflow==2.1.0) (2.23.0)\n",
            "Requirement already satisfied: setuptools>=41.0.0 in /usr/local/lib/python3.6/dist-packages (from tensorboard<2.2.0,>=2.1.0->tensorflow==2.1.0) (51.1.1)\n",
            "Requirement already satisfied: h5py in /usr/local/lib/python3.6/dist-packages (from keras-applications>=1.0.8->tensorflow==2.1.0) (2.10.0)\n",
            "Requirement already satisfied: importlib-metadata; python_version < \"3.8\" in /usr/local/lib/python3.6/dist-packages (from markdown>=2.6.8->tensorboard<2.2.0,>=2.1.0->tensorflow==2.1.0) (3.3.0)\n",
            "Requirement already satisfied: requests-oauthlib>=0.7.0 in /usr/local/lib/python3.6/dist-packages (from google-auth-oauthlib<0.5,>=0.4.1->tensorboard<2.2.0,>=2.1.0->tensorflow==2.1.0) (1.3.0)\n",
            "Requirement already satisfied: cachetools<5.0,>=2.0.0 in /usr/local/lib/python3.6/dist-packages (from google-auth<2,>=1.6.3->tensorboard<2.2.0,>=2.1.0->tensorflow==2.1.0) (4.2.0)\n",
            "Requirement already satisfied: pyasn1-modules>=0.2.1 in /usr/local/lib/python3.6/dist-packages (from google-auth<2,>=1.6.3->tensorboard<2.2.0,>=2.1.0->tensorflow==2.1.0) (0.2.8)\n",
            "Requirement already satisfied: rsa<5,>=3.1.4; python_version >= \"3\" in /usr/local/lib/python3.6/dist-packages (from google-auth<2,>=1.6.3->tensorboard<2.2.0,>=2.1.0->tensorflow==2.1.0) (4.6)\n",
            "Requirement already satisfied: idna<3,>=2.5 in /usr/local/lib/python3.6/dist-packages (from requests<3,>=2.21.0->tensorboard<2.2.0,>=2.1.0->tensorflow==2.1.0) (2.10)\n",
            "Requirement already satisfied: certifi>=2017.4.17 in /usr/local/lib/python3.6/dist-packages (from requests<3,>=2.21.0->tensorboard<2.2.0,>=2.1.0->tensorflow==2.1.0) (2020.12.5)\n",
            "Requirement already satisfied: urllib3!=1.25.0,!=1.25.1,<1.26,>=1.21.1 in /usr/local/lib/python3.6/dist-packages (from requests<3,>=2.21.0->tensorboard<2.2.0,>=2.1.0->tensorflow==2.1.0) (1.24.3)\n",
            "Requirement already satisfied: chardet<4,>=3.0.2 in /usr/local/lib/python3.6/dist-packages (from requests<3,>=2.21.0->tensorboard<2.2.0,>=2.1.0->tensorflow==2.1.0) (3.0.4)\n",
            "Requirement already satisfied: zipp>=0.5 in /usr/local/lib/python3.6/dist-packages (from importlib-metadata; python_version < \"3.8\"->markdown>=2.6.8->tensorboard<2.2.0,>=2.1.0->tensorflow==2.1.0) (3.4.0)\n",
            "Requirement already satisfied: typing-extensions>=3.6.4; python_version < \"3.8\" in /usr/local/lib/python3.6/dist-packages (from importlib-metadata; python_version < \"3.8\"->markdown>=2.6.8->tensorboard<2.2.0,>=2.1.0->tensorflow==2.1.0) (3.7.4.3)\n",
            "Requirement already satisfied: oauthlib>=3.0.0 in /usr/local/lib/python3.6/dist-packages (from requests-oauthlib>=0.7.0->google-auth-oauthlib<0.5,>=0.4.1->tensorboard<2.2.0,>=2.1.0->tensorflow==2.1.0) (3.1.0)\n",
            "Requirement already satisfied: pyasn1<0.5.0,>=0.4.6 in /usr/local/lib/python3.6/dist-packages (from pyasn1-modules>=0.2.1->google-auth<2,>=1.6.3->tensorboard<2.2.0,>=2.1.0->tensorflow==2.1.0) (0.4.8)\n",
            "Building wheels for collected packages: gast\n",
            "  Building wheel for gast (setup.py) ... \u001b[?25l\u001b[?25hdone\n",
            "  Created wheel for gast: filename=gast-0.2.2-cp36-none-any.whl size=7540 sha256=f7c78d49d413728becea332ce65bd26a88e6c3e054f6666480d99bc99c1a37f9\n",
            "  Stored in directory: /root/.cache/pip/wheels/5c/2e/7e/a1d4d4fcebe6c381f378ce7743a3ced3699feb89bcfbdadadd\n",
            "Successfully built gast\n",
            "\u001b[31mERROR: tensorflow-probability 0.11.0 has requirement gast>=0.3.2, but you'll have gast 0.2.2 which is incompatible.\u001b[0m\n",
            "Installing collected packages: gast, tensorboard, tensorflow-estimator, keras-applications, tensorflow\n",
            "  Found existing installation: gast 0.3.3\n",
            "    Uninstalling gast-0.3.3:\n",
            "      Successfully uninstalled gast-0.3.3\n",
            "  Found existing installation: tensorboard 2.4.0\n",
            "    Uninstalling tensorboard-2.4.0:\n",
            "      Successfully uninstalled tensorboard-2.4.0\n",
            "  Found existing installation: tensorflow-estimator 2.4.0\n",
            "    Uninstalling tensorflow-estimator-2.4.0:\n",
            "      Successfully uninstalled tensorflow-estimator-2.4.0\n",
            "  Found existing installation: tensorflow 2.4.0\n",
            "    Uninstalling tensorflow-2.4.0:\n",
            "      Successfully uninstalled tensorflow-2.4.0\n",
            "Successfully installed gast-0.2.2 keras-applications-1.0.8 tensorboard-2.1.1 tensorflow-2.1.0 tensorflow-estimator-2.1.0\n"
          ],
          "name": "stdout"
        },
        {
          "output_type": "display_data",
          "data": {
            "application/vnd.colab-display-data+json": {
              "pip_warning": {
                "packages": [
                  "gast",
                  "tensorboard",
                  "tensorflow"
                ]
              }
            }
          },
          "metadata": {
            "tags": []
          }
        }
      ]
    },
    {
      "cell_type": "markdown",
      "metadata": {
        "id": "qASyOjUDx1Lq"
      },
      "source": [
        "## Import libraries and create noisy data\n",
        "\n"
      ]
    },
    {
      "cell_type": "code",
      "metadata": {
        "id": "Rz1Q7i9xx1Lt",
        "colab": {
          "base_uri": "https://localhost:8080/"
        },
        "outputId": "608c9d98-b040-4241-f958-eb240efffa48"
      },
      "source": [
        "import numpy as np\n",
        "import matplotlib.pyplot as plt\n",
        "from tensorflow import keras\n",
        "#from google.colab import files\n",
        "import tensorflow as tf\n",
        "import math\n",
        "\n",
        "p= 4759\n",
        "q =5501\n",
        "# semiprime with relatively small primes\n",
        "N = p * q\n",
        "\n",
        "print ('TensorFlow version: ' + tf.__version__)\n",
        "\n",
        "# Create noisy data\n",
        "#x_data = np.linspace(-10, 10, num=1000)\n",
        "#y_data = 0.1*x_data*np.cos(x_data) + 0.1*np.random.normal(size=1000)\n",
        "# for some mysterious reason the values of x_data dramatically affect the model even if the range and ydata remain the same0\n",
        "x_data = np.linspace(-100, 100, num=200)\n",
        "x_data = x_data +p\n",
        "y_data = N % (  x_data )\n",
        "print('Data created successfully')"
      ],
      "execution_count": 23,
      "outputs": [
        {
          "output_type": "stream",
          "text": [
            "TensorFlow version: 2.4.0\n",
            "Data created successfully\n"
          ],
          "name": "stdout"
        }
      ]
    },
    {
      "cell_type": "code",
      "metadata": {
        "colab": {
          "base_uri": "https://localhost:8080/"
        },
        "id": "4IiS3DK0h_8Z",
        "outputId": "fa810e92-5c59-45d6-80a0-b920477de06d"
      },
      "source": [
        "y_data"
      ],
      "execution_count": 24,
      "outputs": [
        {
          "output_type": "execute_result",
          "data": {
            "text/plain": [
              "array([ 338.        , 4010.77386935, 3026.55778895, 2044.35175879,\n",
              "       1064.15577889,   85.96984925, 3774.8241206 , 2801.66331658,\n",
              "       1830.51256282,  861.37185929, 4563.29145729, 3599.1758794 ,\n",
              "       2637.07035176, 1676.97487437,  718.88944724, 4436.88944723,\n",
              "       3483.82914573, 2532.77889447, 1583.73869347,  636.70854272,\n",
              "       4370.78894472, 3428.7839196 , 2488.78894472, 1550.8040201 ,\n",
              "        614.82914573, 4364.98994975, 3434.040201  , 2505.10050251,\n",
              "       1578.17085427,  653.25125628, 4419.49246231, 3499.59798995,\n",
              "       2581.71356784, 1665.83919598,  751.97487437, 4534.29648241,\n",
              "       3625.45728643, 2718.6281407 , 1813.80904522,  911.        ,\n",
              "         10.20100503, 3811.61809045, 2915.84422111, 2022.08040201,\n",
              "       1130.32663316,  240.58291457, 4058.08040201, 3173.36180905,\n",
              "       2290.65326633, 1409.95477387,  531.26633166, 4364.84422111,\n",
              "       3491.18090452, 2619.52763819, 1749.88442211,  882.25125628,\n",
              "         16.6281407 , 3869.30150754, 3008.70351759, 2150.11557789,\n",
              "       1293.53768844,  438.96984924, 4307.72361809, 3458.18090452,\n",
              "       2610.64824121, 1765.12562814,  921.61306532,   80.11055276,\n",
              "       3967.95979899, 3131.48241206, 2297.01507538, 1464.55778895,\n",
              "        634.11055276, 4538.040201  , 3712.61809045, 2889.20603015,\n",
              "       2067.8040201 , 1248.4120603 ,  431.03015075, 4354.05527638,\n",
              "       3541.69849246, 2731.3517588 , 1923.01507538, 1116.68844221,\n",
              "        312.3718593 , 4254.49246231, 3455.20100503, 2657.91959799,\n",
              "       1862.64824121, 1069.38693467,  278.13567839, 4239.35175879,\n",
              "       3453.12562814, 2668.90954774, 1886.70351759, 1106.50753769,\n",
              "        328.32160804, 4308.63316583, 3535.47236181, 2764.32160804,\n",
              "       1995.18090452, 1228.05025126,  462.92964824, 4462.33668342,\n",
              "       3702.24120603, 2944.1557789 , 2188.08040201, 1434.01507538,\n",
              "        681.95979899, 4700.46231156, 3953.43216081, 3208.4120603 ,\n",
              "       2465.40201005, 1724.40201005,  985.4120603 ,  248.43216081,\n",
              "       4289.04522613, 3557.09045226, 2827.14572864, 2099.21105528,\n",
              "       1373.28643216,  649.3718593 , 4709.08040201, 3990.19095477,\n",
              "       3273.31155779, 2558.44221106, 1845.58291457, 1134.73366834,\n",
              "        425.89447236, 4507.71356784, 3803.89949749, 3102.09547739,\n",
              "       2402.30150754, 1704.51758794, 1008.74371859,  314.9798995 ,\n",
              "       4418.90954774, 3730.17085427, 3043.44221106, 2358.72361809,\n",
              "       1676.01507538,  995.31658291,  316.6281407 , 4442.66834171,\n",
              "       3769.00502513, 3097.3517588 , 2427.70854271, 1760.07537688,\n",
              "       1094.45226131,  430.83919598, 4578.98994975, 3920.40201005,\n",
              "       3263.8241206 , 2609.25628141, 1956.69849246, 1306.15075377,\n",
              "        657.61306533,   11.08542713, 4184.36180904, 3542.85929648,\n",
              "       2903.36683417, 2265.88442211, 1630.4120603 ,  996.94974874,\n",
              "        365.49748744, 4560.88442211, 3934.45728643, 3310.04020101,\n",
              "       2687.63316583, 2067.2361809 , 1448.84924623,  832.47236181,\n",
              "        218.10552764, 4438.61809045, 3829.27638191, 3221.94472362,\n",
              "       2616.62311558, 2013.31155779, 1412.01005025,  812.71859297,\n",
              "        215.43718593, 4461.07537688, 3868.81909548, 3278.57286432,\n",
              "       2690.33668342, 2104.11055276, 1519.89447236,  937.68844221,\n",
              "        357.49246231, 4628.25628141, 4053.08542714, 3479.92462311,\n",
              "       2908.77386935, 2339.63316583, 1772.50251256, 1207.38190955,\n",
              "        644.27135679,   83.17085427, 4382.07537688, 3826.        ])"
            ]
          },
          "metadata": {
            "tags": []
          },
          "execution_count": 24
        }
      ]
    },
    {
      "cell_type": "markdown",
      "metadata": {
        "id": "RGNdmgOKAg_D"
      },
      "source": [
        "## Display curve to fit"
      ]
    },
    {
      "cell_type": "code",
      "metadata": {
        "id": "zYrNbXAsAf9N",
        "colab": {
          "base_uri": "https://localhost:8080/",
          "height": 282
        },
        "outputId": "7b588cdd-edc3-45c2-b9c4-94c772c10ade"
      },
      "source": [
        "# Display the dataset\n",
        "plt.scatter(x_data[::1], y_data[::1], s=2)\n",
        "plt.grid()\n",
        "plt.show()\n",
        "plt.savefig('dataset.png',dpi=300)\n",
        "#files.download('dataset.png') "
      ],
      "execution_count": 25,
      "outputs": [
        {
          "output_type": "display_data",
          "data": {
            "image/png": "[encoded data removed]",
            "text/plain": [
              "<Figure size 432x288 with 1 Axes>"
            ]
          },
          "metadata": {
            "tags": [],
            "needs_background": "light"
          }
        },
        {
          "output_type": "display_data",
          "data": {
            "text/plain": [
              "<Figure size 432x288 with 0 Axes>"
            ]
          },
          "metadata": {
            "tags": []
          }
        }
      ]
    },
    {
      "cell_type": "markdown",
      "metadata": {
        "id": "5f_ikNz8x1Lz"
      },
      "source": [
        "# Create the model\n",
        "Create the model with two 64 units hidden layers."
      ]
    },
    {
      "cell_type": "code",
      "metadata": {
        "id": "sMvpBFj5x1L0",
        "colab": {
          "base_uri": "https://localhost:8080/"
        },
        "outputId": "d643518d-0d2e-46cf-9b5a-c7fe1da7e931"
      },
      "source": [
        "# Create the model \n",
        "model = keras.Sequential()\n",
        "model.add(keras.layers.Dense(units = 1, activation = 'linear', input_shape=[1]))\n",
        "model.add(keras.layers.Dense(units = 64, activation = 'relu'))\n",
        "\n",
        "model.add(keras.layers.Dense(units = 64, activation = 'relu'))\n",
        "model.add(keras.layers.Dense(units = 1024, activation = 'sigmoid'))\n",
        "#model.add(keras.layers.Dense(units = 1024, activation = 'sigmoid'))\n",
        "\n",
        "\n",
        "model.add(keras.layers.Dense(units = 1, activation = 'linear')) # not linear\n",
        "model.compile(loss='mse', optimizer=\"adam\")\n",
        "\n",
        "# Display the model\n",
        "model.summary()"
      ],
      "execution_count": 26,
      "outputs": [
        {
          "output_type": "stream",
          "text": [
            "Model: \"sequential_3\"\n",
            "_________________________________________________________________\n",
            "Layer (type)                 Output Shape              Param #   \n",
            "=================================================================\n",
            "dense_13 (Dense)             (None, 1)                 2         \n",
            "_________________________________________________________________\n",
            "dense_14 (Dense)             (None, 64)                128       \n",
            "_________________________________________________________________\n",
            "dense_15 (Dense)             (None, 64)                4160      \n",
            "_________________________________________________________________\n",
            "dense_16 (Dense)             (None, 1024)              66560     \n",
            "_________________________________________________________________\n",
            "dense_17 (Dense)             (None, 1)                 1025      \n",
            "=================================================================\n",
            "Total params: 71,875\n",
            "Trainable params: 71,875\n",
            "Non-trainable params: 0\n",
            "_________________________________________________________________\n"
          ],
          "name": "stdout"
        }
      ]
    },
    {
      "cell_type": "code",
      "metadata": {
        "colab": {
          "base_uri": "https://localhost:8080/"
        },
        "id": "RcTV2Kl1t2Kw",
        "outputId": "cd5c78dc-a08e-483d-e54b-f4aee7ebabde"
      },
      "source": [
        "x_data"
      ],
      "execution_count": 27,
      "outputs": [
        {
          "output_type": "execute_result",
          "data": {
            "text/plain": [
              "array([4659.        , 4660.00502513, 4661.01005025, 4662.01507538,\n",
              "       4663.0201005 , 4664.02512563, 4665.03015075, 4666.03517588,\n",
              "       4667.04020101, 4668.04522613, 4669.05025126, 4670.05527638,\n",
              "       4671.06030151, 4672.06532663, 4673.07035176, 4674.07537688,\n",
              "       4675.08040201, 4676.08542714, 4677.09045226, 4678.09547739,\n",
              "       4679.10050251, 4680.10552764, 4681.11055276, 4682.11557789,\n",
              "       4683.12060302, 4684.12562814, 4685.13065327, 4686.13567839,\n",
              "       4687.14070352, 4688.14572864, 4689.15075377, 4690.15577889,\n",
              "       4691.16080402, 4692.16582915, 4693.17085427, 4694.1758794 ,\n",
              "       4695.18090452, 4696.18592965, 4697.19095477, 4698.1959799 ,\n",
              "       4699.20100503, 4700.20603015, 4701.21105528, 4702.2160804 ,\n",
              "       4703.22110553, 4704.22613065, 4705.23115578, 4706.2361809 ,\n",
              "       4707.24120603, 4708.24623116, 4709.25125628, 4710.25628141,\n",
              "       4711.26130653, 4712.26633166, 4713.27135678, 4714.27638191,\n",
              "       4715.28140704, 4716.28643216, 4717.29145729, 4718.29648241,\n",
              "       4719.30150754, 4720.30653266, 4721.31155779, 4722.31658291,\n",
              "       4723.32160804, 4724.32663317, 4725.33165829, 4726.33668342,\n",
              "       4727.34170854, 4728.34673367, 4729.35175879, 4730.35678392,\n",
              "       4731.36180905, 4732.36683417, 4733.3718593 , 4734.37688442,\n",
              "       4735.38190955, 4736.38693467, 4737.3919598 , 4738.39698492,\n",
              "       4739.40201005, 4740.40703518, 4741.4120603 , 4742.41708543,\n",
              "       4743.42211055, 4744.42713568, 4745.4321608 , 4746.43718593,\n",
              "       4747.44221106, 4748.44723618, 4749.45226131, 4750.45728643,\n",
              "       4751.46231156, 4752.46733668, 4753.47236181, 4754.47738693,\n",
              "       4755.48241206, 4756.48743719, 4757.49246231, 4758.49748744,\n",
              "       4759.50251256, 4760.50753769, 4761.51256281, 4762.51758794,\n",
              "       4763.52261307, 4764.52763819, 4765.53266332, 4766.53768844,\n",
              "       4767.54271357, 4768.54773869, 4769.55276382, 4770.55778894,\n",
              "       4771.56281407, 4772.5678392 , 4773.57286432, 4774.57788945,\n",
              "       4775.58291457, 4776.5879397 , 4777.59296482, 4778.59798995,\n",
              "       4779.60301508, 4780.6080402 , 4781.61306533, 4782.61809045,\n",
              "       4783.62311558, 4784.6281407 , 4785.63316583, 4786.63819095,\n",
              "       4787.64321608, 4788.64824121, 4789.65326633, 4790.65829146,\n",
              "       4791.66331658, 4792.66834171, 4793.67336683, 4794.67839196,\n",
              "       4795.68341709, 4796.68844221, 4797.69346734, 4798.69849246,\n",
              "       4799.70351759, 4800.70854271, 4801.71356784, 4802.71859296,\n",
              "       4803.72361809, 4804.72864322, 4805.73366834, 4806.73869347,\n",
              "       4807.74371859, 4808.74874372, 4809.75376884, 4810.75879397,\n",
              "       4811.7638191 , 4812.76884422, 4813.77386935, 4814.77889447,\n",
              "       4815.7839196 , 4816.78894472, 4817.79396985, 4818.79899497,\n",
              "       4819.8040201 , 4820.80904523, 4821.81407035, 4822.81909548,\n",
              "       4823.8241206 , 4824.82914573, 4825.83417085, 4826.83919598,\n",
              "       4827.84422111, 4828.84924623, 4829.85427136, 4830.85929648,\n",
              "       4831.86432161, 4832.86934673, 4833.87437186, 4834.87939698,\n",
              "       4835.88442211, 4836.88944724, 4837.89447236, 4838.89949749,\n",
              "       4839.90452261, 4840.90954774, 4841.91457286, 4842.91959799,\n",
              "       4843.92462312, 4844.92964824, 4845.93467337, 4846.93969849,\n",
              "       4847.94472362, 4848.94974874, 4849.95477387, 4850.95979899,\n",
              "       4851.96482412, 4852.96984925, 4853.97487437, 4854.9798995 ,\n",
              "       4855.98492462, 4856.98994975, 4857.99497487, 4859.        ])"
            ]
          },
          "metadata": {
            "tags": []
          },
          "execution_count": 27
        }
      ]
    },
    {
      "cell_type": "markdown",
      "metadata": {
        "id": "Sxr1qxVex1L4"
      },
      "source": [
        "## Training over 100 epochs"
      ]
    },
    {
      "cell_type": "code",
      "metadata": {
        "id": "M3XBJMj4x1L5",
        "colab": {
          "base_uri": "https://localhost:8080/"
        },
        "outputId": "703628f3-0753-4be6-a6cb-79de671193e3"
      },
      "source": [
        "# Training\n",
        "model.fit( x_data, y_data, epochs=100, verbose=1)"
      ],
      "execution_count": 28,
      "outputs": [
        {
          "output_type": "stream",
          "text": [
            "Epoch 1/100\n",
            "7/7 [==============================] - 0s 2ms/step - loss: 7446282.3125\n",
            "Epoch 2/100\n",
            "7/7 [==============================] - 0s 2ms/step - loss: 7084660.6250\n",
            "Epoch 3/100\n",
            "7/7 [==============================] - 0s 2ms/step - loss: 7629156.9375\n",
            "Epoch 4/100\n",
            "7/7 [==============================] - 0s 2ms/step - loss: 7376798.0625\n",
            "Epoch 5/100\n",
            "7/7 [==============================] - 0s 2ms/step - loss: 7458180.2500\n",
            "Epoch 6/100\n",
            "7/7 [==============================] - 0s 2ms/step - loss: 7452476.8125\n",
            "Epoch 7/100\n",
            "7/7 [==============================] - 0s 2ms/step - loss: 7020486.3750\n",
            "Epoch 8/100\n",
            "7/7 [==============================] - 0s 2ms/step - loss: 7695022.6250\n",
            "Epoch 9/100\n",
            "7/7 [==============================] - 0s 2ms/step - loss: 7038585.5000\n",
            "Epoch 10/100\n",
            "7/7 [==============================] - 0s 3ms/step - loss: 7293481.0000\n",
            "Epoch 11/100\n",
            "7/7 [==============================] - 0s 2ms/step - loss: 7129000.1250\n",
            "Epoch 12/100\n",
            "7/7 [==============================] - 0s 3ms/step - loss: 7258120.1875\n",
            "Epoch 13/100\n",
            "7/7 [==============================] - 0s 3ms/step - loss: 7054130.5000\n",
            "Epoch 14/100\n",
            "7/7 [==============================] - 0s 2ms/step - loss: 7382526.0625\n",
            "Epoch 15/100\n",
            "7/7 [==============================] - 0s 2ms/step - loss: 7620383.4375\n",
            "Epoch 16/100\n",
            "7/7 [==============================] - 0s 2ms/step - loss: 7068285.0625\n",
            "Epoch 17/100\n",
            "7/7 [==============================] - 0s 2ms/step - loss: 6892871.3750\n",
            "Epoch 18/100\n",
            "7/7 [==============================] - 0s 2ms/step - loss: 7701402.8125\n",
            "Epoch 19/100\n",
            "7/7 [==============================] - 0s 2ms/step - loss: 6873137.3125\n",
            "Epoch 20/100\n",
            "7/7 [==============================] - 0s 2ms/step - loss: 6803358.9375\n",
            "Epoch 21/100\n",
            "7/7 [==============================] - 0s 2ms/step - loss: 7000529.4375\n",
            "Epoch 22/100\n",
            "7/7 [==============================] - 0s 2ms/step - loss: 6926400.5625\n",
            "Epoch 23/100\n",
            "7/7 [==============================] - 0s 3ms/step - loss: 7165048.9375\n",
            "Epoch 24/100\n",
            "7/7 [==============================] - 0s 2ms/step - loss: 7035816.8750\n",
            "Epoch 25/100\n",
            "7/7 [==============================] - 0s 2ms/step - loss: 6972914.1875\n",
            "Epoch 26/100\n",
            "7/7 [==============================] - 0s 2ms/step - loss: 6961872.8750\n",
            "Epoch 27/100\n",
            "7/7 [==============================] - 0s 2ms/step - loss: 6978287.3750\n",
            "Epoch 28/100\n",
            "7/7 [==============================] - 0s 2ms/step - loss: 7081235.6875\n",
            "Epoch 29/100\n",
            "7/7 [==============================] - 0s 2ms/step - loss: 6808014.5625\n",
            "Epoch 30/100\n",
            "7/7 [==============================] - 0s 2ms/step - loss: 6798707.6250\n",
            "Epoch 31/100\n",
            "7/7 [==============================] - 0s 2ms/step - loss: 6717765.0625\n",
            "Epoch 32/100\n",
            "7/7 [==============================] - 0s 2ms/step - loss: 6798047.0000\n",
            "Epoch 33/100\n",
            "7/7 [==============================] - 0s 2ms/step - loss: 6247125.3750\n",
            "Epoch 34/100\n",
            "7/7 [==============================] - 0s 2ms/step - loss: 6768878.0625\n",
            "Epoch 35/100\n",
            "7/7 [==============================] - 0s 2ms/step - loss: 7122408.0000\n",
            "Epoch 36/100\n",
            "7/7 [==============================] - 0s 2ms/step - loss: 7164934.5000\n",
            "Epoch 37/100\n",
            "7/7 [==============================] - 0s 3ms/step - loss: 7379543.0000\n",
            "Epoch 38/100\n",
            "7/7 [==============================] - 0s 2ms/step - loss: 6854919.1875\n",
            "Epoch 39/100\n",
            "7/7 [==============================] - 0s 2ms/step - loss: 6565140.4375\n",
            "Epoch 40/100\n",
            "7/7 [==============================] - 0s 2ms/step - loss: 6812211.8750\n",
            "Epoch 41/100\n",
            "7/7 [==============================] - 0s 2ms/step - loss: 7529174.9375\n",
            "Epoch 42/100\n",
            "7/7 [==============================] - 0s 2ms/step - loss: 6958177.8125\n",
            "Epoch 43/100\n",
            "7/7 [==============================] - 0s 2ms/step - loss: 6456201.5625\n",
            "Epoch 44/100\n",
            "7/7 [==============================] - 0s 2ms/step - loss: 6983031.4375\n",
            "Epoch 45/100\n",
            "7/7 [==============================] - 0s 2ms/step - loss: 6639197.5000\n",
            "Epoch 46/100\n",
            "7/7 [==============================] - 0s 2ms/step - loss: 6668538.5000\n",
            "Epoch 47/100\n",
            "7/7 [==============================] - 0s 3ms/step - loss: 6535472.5000\n",
            "Epoch 48/100\n",
            "7/7 [==============================] - 0s 2ms/step - loss: 6910006.2500\n",
            "Epoch 49/100\n",
            "7/7 [==============================] - 0s 2ms/step - loss: 6627963.5000\n",
            "Epoch 50/100\n",
            "7/7 [==============================] - 0s 2ms/step - loss: 7157408.0625\n",
            "Epoch 51/100\n",
            "7/7 [==============================] - 0s 2ms/step - loss: 6526864.8125\n",
            "Epoch 52/100\n",
            "7/7 [==============================] - 0s 2ms/step - loss: 6688312.8125\n",
            "Epoch 53/100\n",
            "7/7 [==============================] - 0s 2ms/step - loss: 6465102.5625\n",
            "Epoch 54/100\n",
            "7/7 [==============================] - 0s 3ms/step - loss: 6344293.1250\n",
            "Epoch 55/100\n",
            "7/7 [==============================] - 0s 2ms/step - loss: 6350791.2500\n",
            "Epoch 56/100\n",
            "7/7 [==============================] - 0s 3ms/step - loss: 6159751.4375\n",
            "Epoch 57/100\n",
            "7/7 [==============================] - 0s 2ms/step - loss: 6640438.1250\n",
            "Epoch 58/100\n",
            "7/7 [==============================] - 0s 3ms/step - loss: 6950528.9375\n",
            "Epoch 59/100\n",
            "7/7 [==============================] - 0s 2ms/step - loss: 6506702.8750\n",
            "Epoch 60/100\n",
            "7/7 [==============================] - 0s 2ms/step - loss: 6811988.1250\n",
            "Epoch 61/100\n",
            "7/7 [==============================] - 0s 2ms/step - loss: 6319979.7500\n",
            "Epoch 62/100\n",
            "7/7 [==============================] - 0s 2ms/step - loss: 6521706.8125\n",
            "Epoch 63/100\n",
            "7/7 [==============================] - 0s 2ms/step - loss: 6508716.9375\n",
            "Epoch 64/100\n",
            "7/7 [==============================] - 0s 2ms/step - loss: 6522708.0625\n",
            "Epoch 65/100\n",
            "7/7 [==============================] - 0s 2ms/step - loss: 6712319.1875\n",
            "Epoch 66/100\n",
            "7/7 [==============================] - 0s 3ms/step - loss: 6454646.0000\n",
            "Epoch 67/100\n",
            "7/7 [==============================] - 0s 2ms/step - loss: 6451042.0625\n",
            "Epoch 68/100\n",
            "7/7 [==============================] - 0s 3ms/step - loss: 6293179.6875\n",
            "Epoch 69/100\n",
            "7/7 [==============================] - 0s 2ms/step - loss: 6164038.8750\n",
            "Epoch 70/100\n",
            "7/7 [==============================] - 0s 2ms/step - loss: 6149028.3750\n",
            "Epoch 71/100\n",
            "7/7 [==============================] - 0s 2ms/step - loss: 6775254.1250\n",
            "Epoch 72/100\n",
            "7/7 [==============================] - 0s 3ms/step - loss: 6184382.0000\n",
            "Epoch 73/100\n",
            "7/7 [==============================] - 0s 2ms/step - loss: 6408961.6875\n",
            "Epoch 74/100\n",
            "7/7 [==============================] - 0s 3ms/step - loss: 6567613.1875\n",
            "Epoch 75/100\n",
            "7/7 [==============================] - 0s 2ms/step - loss: 5709632.0625\n",
            "Epoch 76/100\n",
            "7/7 [==============================] - 0s 2ms/step - loss: 6222956.7500\n",
            "Epoch 77/100\n",
            "7/7 [==============================] - 0s 2ms/step - loss: 6249100.7500\n",
            "Epoch 78/100\n",
            "7/7 [==============================] - 0s 2ms/step - loss: 6360118.2500\n",
            "Epoch 79/100\n",
            "7/7 [==============================] - 0s 2ms/step - loss: 6466214.8125\n",
            "Epoch 80/100\n",
            "7/7 [==============================] - 0s 2ms/step - loss: 5985154.6875\n",
            "Epoch 81/100\n",
            "7/7 [==============================] - 0s 2ms/step - loss: 6017725.5000\n",
            "Epoch 82/100\n",
            "7/7 [==============================] - 0s 2ms/step - loss: 6466160.6875\n",
            "Epoch 83/100\n",
            "7/7 [==============================] - 0s 2ms/step - loss: 6316810.9375\n",
            "Epoch 84/100\n",
            "7/7 [==============================] - 0s 2ms/step - loss: 6111482.2500\n",
            "Epoch 85/100\n",
            "7/7 [==============================] - 0s 2ms/step - loss: 6040250.4375\n",
            "Epoch 86/100\n",
            "7/7 [==============================] - 0s 3ms/step - loss: 6479100.1875\n",
            "Epoch 87/100\n",
            "7/7 [==============================] - 0s 3ms/step - loss: 6476510.5000\n",
            "Epoch 88/100\n",
            "7/7 [==============================] - 0s 2ms/step - loss: 6133960.3750\n",
            "Epoch 89/100\n",
            "7/7 [==============================] - 0s 3ms/step - loss: 6253554.9375\n",
            "Epoch 90/100\n",
            "7/7 [==============================] - 0s 2ms/step - loss: 6092568.3750\n",
            "Epoch 91/100\n",
            "7/7 [==============================] - 0s 3ms/step - loss: 6007115.8750\n",
            "Epoch 92/100\n",
            "7/7 [==============================] - 0s 2ms/step - loss: 6361550.9375\n",
            "Epoch 93/100\n",
            "7/7 [==============================] - 0s 2ms/step - loss: 6052727.8750\n",
            "Epoch 94/100\n",
            "7/7 [==============================] - 0s 2ms/step - loss: 6336446.2500\n",
            "Epoch 95/100\n",
            "7/7 [==============================] - 0s 2ms/step - loss: 5825079.7500\n",
            "Epoch 96/100\n",
            "7/7 [==============================] - 0s 2ms/step - loss: 5942874.0000\n",
            "Epoch 97/100\n",
            "7/7 [==============================] - 0s 2ms/step - loss: 6437899.9375\n",
            "Epoch 98/100\n",
            "7/7 [==============================] - 0s 2ms/step - loss: 6249627.6250\n",
            "Epoch 99/100\n",
            "7/7 [==============================] - 0s 2ms/step - loss: 6282362.6875\n",
            "Epoch 100/100\n",
            "7/7 [==============================] - 0s 2ms/step - loss: 5602771.5625\n"
          ],
          "name": "stdout"
        },
        {
          "output_type": "execute_result",
          "data": {
            "text/plain": [
              "<tensorflow.python.keras.callbacks.History at 0x7fc7093f6668>"
            ]
          },
          "metadata": {
            "tags": []
          },
          "execution_count": 28
        }
      ]
    },
    {
      "cell_type": "markdown",
      "metadata": {
        "id": "gLEzVkjex1L9"
      },
      "source": [
        "# Predict and display"
      ]
    },
    {
      "cell_type": "code",
      "metadata": {
        "id": "IcKpdLe9x1L-",
        "colab": {
          "base_uri": "https://localhost:8080/",
          "height": 265
        },
        "outputId": "d1633de6-8352-41e6-9522-42a6c7334954"
      },
      "source": [
        "# Compute the output \n",
        "\n",
        "y_predicted = model.predict(x_data)\n",
        "\n",
        "# Display the result\n",
        "plt.scatter(x_data[::1], y_data[::1], s=1)\n",
        "plt.plot(x_data, y_predicted, 'r', linewidth=4)\n",
        "plt.grid()\n",
        "plt.show()\n",
        "#plt.savefig('training.png', dpi=1200)\n",
        "#files.download(\"training.png\") "
      ],
      "execution_count": 29,
      "outputs": [
        {
          "output_type": "display_data",
          "data": {
            "image/png": "[encoded data removed]",
            "text/plain": [
              "<Figure size 432x288 with 1 Axes>"
            ]
          },
          "metadata": {
            "tags": [],
            "needs_background": "light"
          }
        }
      ]
    },
    {
      "cell_type": "code",
      "metadata": {
        "colab": {
          "base_uri": "https://localhost:8080/"
        },
        "id": "av4JF4mCURZb",
        "outputId": "3745aa04-eae3-4537-9d02-8dc92b4ae63b"
      },
      "source": [
        "y_predicted"
      ],
      "execution_count": 30,
      "outputs": [
        {
          "output_type": "execute_result",
          "data": {
            "text/plain": [
              "array([[368.98956],\n",
              "       [368.98956],\n",
              "       [368.98956],\n",
              "       [368.98956],\n",
              "       [368.98956],\n",
              "       [368.98956],\n",
              "       [368.98956],\n",
              "       [368.98956],\n",
              "       [368.98956],\n",
              "       [368.98956],\n",
              "       [368.98956],\n",
              "       [368.98956],\n",
              "       [368.98956],\n",
              "       [368.98956],\n",
              "       [368.98956],\n",
              "       [368.98956],\n",
              "       [368.98956],\n",
              "       [368.98956],\n",
              "       [368.98956],\n",
              "       [368.98956],\n",
              "       [368.98956],\n",
              "       [368.98956],\n",
              "       [368.98956],\n",
              "       [368.98956],\n",
              "       [368.98956],\n",
              "       [368.98956],\n",
              "       [368.98956],\n",
              "       [368.98956],\n",
              "       [368.98956],\n",
              "       [368.98956],\n",
              "       [368.98956],\n",
              "       [368.98956],\n",
              "       [368.98956],\n",
              "       [368.98956],\n",
              "       [368.98956],\n",
              "       [368.98956],\n",
              "       [368.98956],\n",
              "       [368.98956],\n",
              "       [368.98956],\n",
              "       [368.98956],\n",
              "       [368.98956],\n",
              "       [368.98956],\n",
              "       [368.98956],\n",
              "       [368.98956],\n",
              "       [368.98956],\n",
              "       [368.98956],\n",
              "       [368.98956],\n",
              "       [368.98956],\n",
              "       [368.98956],\n",
              "       [368.98956],\n",
              "       [368.98956],\n",
              "       [368.98956],\n",
              "       [368.98956],\n",
              "       [368.98956],\n",
              "       [368.98956],\n",
              "       [368.98956],\n",
              "       [368.98956],\n",
              "       [368.98956],\n",
              "       [368.98956],\n",
              "       [368.98956],\n",
              "       [368.98956],\n",
              "       [368.98956],\n",
              "       [368.98956],\n",
              "       [368.98956],\n",
              "       [368.98956],\n",
              "       [368.98956],\n",
              "       [368.98956],\n",
              "       [368.98956],\n",
              "       [368.98956],\n",
              "       [368.98956],\n",
              "       [368.98956],\n",
              "       [368.98956],\n",
              "       [368.98956],\n",
              "       [368.98956],\n",
              "       [368.98956],\n",
              "       [368.98956],\n",
              "       [368.98956],\n",
              "       [368.98956],\n",
              "       [368.98956],\n",
              "       [368.98956],\n",
              "       [368.98956],\n",
              "       [368.98956],\n",
              "       [368.98956],\n",
              "       [368.98956],\n",
              "       [368.98956],\n",
              "       [368.98956],\n",
              "       [368.98956],\n",
              "       [368.98956],\n",
              "       [368.98956],\n",
              "       [368.98956],\n",
              "       [368.98956],\n",
              "       [368.98956],\n",
              "       [368.98956],\n",
              "       [368.98956],\n",
              "       [368.98956],\n",
              "       [368.98956],\n",
              "       [368.98956],\n",
              "       [368.98956],\n",
              "       [368.98956],\n",
              "       [368.98956],\n",
              "       [368.98956],\n",
              "       [368.98956],\n",
              "       [368.98956],\n",
              "       [368.98956],\n",
              "       [368.98956],\n",
              "       [368.98956],\n",
              "       [368.98956],\n",
              "       [368.98956],\n",
              "       [368.98956],\n",
              "       [368.98956],\n",
              "       [368.98956],\n",
              "       [368.98956],\n",
              "       [368.98956],\n",
              "       [368.98956],\n",
              "       [368.98956],\n",
              "       [368.98956],\n",
              "       [368.98956],\n",
              "       [368.98956],\n",
              "       [368.98956],\n",
              "       [368.98956],\n",
              "       [368.98956],\n",
              "       [368.98956],\n",
              "       [368.98956],\n",
              "       [368.98956],\n",
              "       [368.98956],\n",
              "       [368.98956],\n",
              "       [368.98956],\n",
              "       [368.98956],\n",
              "       [368.98956],\n",
              "       [368.98956],\n",
              "       [368.98956],\n",
              "       [368.98956],\n",
              "       [368.98956],\n",
              "       [368.98956],\n",
              "       [368.98956],\n",
              "       [368.98956],\n",
              "       [368.98956],\n",
              "       [368.98956],\n",
              "       [368.98956],\n",
              "       [368.98956],\n",
              "       [368.98956],\n",
              "       [368.98956],\n",
              "       [368.98956],\n",
              "       [368.98956],\n",
              "       [368.98956],\n",
              "       [368.98956],\n",
              "       [368.98956],\n",
              "       [368.98956],\n",
              "       [368.98956],\n",
              "       [368.98956],\n",
              "       [368.98956],\n",
              "       [368.98956],\n",
              "       [368.98956],\n",
              "       [368.98956],\n",
              "       [368.98956],\n",
              "       [368.98956],\n",
              "       [368.98956],\n",
              "       [368.98956],\n",
              "       [368.98956],\n",
              "       [368.98956],\n",
              "       [368.98956],\n",
              "       [368.98956],\n",
              "       [368.98956],\n",
              "       [368.98956],\n",
              "       [368.98956],\n",
              "       [368.98956],\n",
              "       [368.98956],\n",
              "       [368.98956],\n",
              "       [368.98956],\n",
              "       [368.98956],\n",
              "       [368.98956],\n",
              "       [368.98956],\n",
              "       [368.98956],\n",
              "       [368.98956],\n",
              "       [368.98956],\n",
              "       [368.98956],\n",
              "       [368.98956],\n",
              "       [368.98956],\n",
              "       [368.98956],\n",
              "       [368.98956],\n",
              "       [368.98956],\n",
              "       [368.98956],\n",
              "       [368.98956],\n",
              "       [368.98956],\n",
              "       [368.98956],\n",
              "       [368.98956],\n",
              "       [368.98956],\n",
              "       [368.98956],\n",
              "       [368.98956],\n",
              "       [368.98956],\n",
              "       [368.98956],\n",
              "       [368.98956],\n",
              "       [368.98956],\n",
              "       [368.98956],\n",
              "       [368.98956],\n",
              "       [368.98956],\n",
              "       [368.98956],\n",
              "       [368.98956],\n",
              "       [368.98956],\n",
              "       [368.98956]], dtype=float32)"
            ]
          },
          "metadata": {
            "tags": []
          },
          "execution_count": 30
        }
      ]
    },
    {
      "cell_type": "code",
      "metadata": {
        "id": "FMuAlbQXUR2K"
      },
      "source": [
        ""
      ],
      "execution_count": null,
      "outputs": []
    },
    {
      "cell_type": "markdown",
      "metadata": {
        "id": "DL3DVlsaUSWl"
      },
      "source": [
        ""
      ]
    },
    {
      "cell_type": "markdown",
      "metadata": {
        "id": "hWzZKvceUSq4"
      },
      "source": [
        ""
      ]
    },
    {
      "cell_type": "code",
      "metadata": {
        "id": "yH5b4oAeUTZV"
      },
      "source": [
        ""
      ],
      "execution_count": null,
      "outputs": []
    },
    {
      "cell_type": "markdown",
      "metadata": {
        "id": "OEEhzK4YHOdC"
      },
      "source": [
        "## Create image sequence for the video\n",
        "\n",
        "Run this section to generate a sequence of images for the [video](https://www.youtube.com/watch?v=7z86Lxzf_2o).\n",
        "\n",
        "To get the video from the beginning, you have to reset the model weight. Re-creating the model should reseting the weights."
      ]
    },
    {
      "cell_type": "code",
      "metadata": {
        "id": "13RiCs72HMH6",
        "colab": {
          "base_uri": "https://localhost:8080/",
          "height": 724
        },
        "outputId": "29d9fe6b-89a3-4337-ed49-4cd5d6317f57"
      },
      "source": [
        "for x in range(100):\n",
        "  # One epoch\n",
        "  model.fit( x_data, y_data, epochs=1, verbose=1)\n",
        "\n",
        "  # Compute the output \n",
        "  y_predicted = model.predict(x_data)\n",
        "\n",
        "  # Display the result\n",
        "  plt.scatter(x_data[::1], y_data[::1], s=2)\n",
        "  plt.plot(x_data, y_predicted, 'r', linewidth=4)\n",
        "  plt.grid()\n",
        "  plt.ylim(top=1.2)  # adjust the top leaving bottom unchanged\n",
        "  plt.ylim(bottom=-1.2)  \n",
        "  #plt.show()\n",
        "  plt.savefig('training-' + str(x) +'-epochs.png',dpi=300)\n",
        "  files.download('training-' + str(x) +'-epochs.png') \n",
        "  plt.clf()\n",
        "\n"
      ],
      "execution_count": null,
      "outputs": [
        {
          "output_type": "stream",
          "text": [
            "Train on 1000 samples\n",
            "1000/1000 [==============================] - 0s 63us/sample - loss: 0.0151\n",
            "Train on 1000 samples\n",
            "1000/1000 [==============================] - 0s 64us/sample - loss: 0.0165\n",
            "Train on 1000 samples\n",
            "1000/1000 [==============================] - 0s 69us/sample - loss: 0.0170\n"
          ],
          "name": "stdout"
        },
        {
          "output_type": "error",
          "ename": "KeyboardInterrupt",
          "evalue": "ignored",
          "traceback": [
            "\u001b[0;31m---------------------------------------------------------------------------\u001b[0m",
            "\u001b[0;31mKeyboardInterrupt\u001b[0m                         Traceback (most recent call last)",
            "\u001b[0;32m<ipython-input-39-e7fdb62e8583>\u001b[0m in \u001b[0;36m<module>\u001b[0;34m()\u001b[0m\n\u001b[1;32m     14\u001b[0m   \u001b[0;31m#plt.show()\u001b[0m\u001b[0;34m\u001b[0m\u001b[0;34m\u001b[0m\u001b[0;34m\u001b[0m\u001b[0m\n\u001b[1;32m     15\u001b[0m   \u001b[0mplt\u001b[0m\u001b[0;34m.\u001b[0m\u001b[0msavefig\u001b[0m\u001b[0;34m(\u001b[0m\u001b[0;34m'training-'\u001b[0m \u001b[0;34m+\u001b[0m \u001b[0mstr\u001b[0m\u001b[0;34m(\u001b[0m\u001b[0mx\u001b[0m\u001b[0;34m)\u001b[0m \u001b[0;34m+\u001b[0m\u001b[0;34m'-epochs.png'\u001b[0m\u001b[0;34m,\u001b[0m\u001b[0mdpi\u001b[0m\u001b[0;34m=\u001b[0m\u001b[0;36m300\u001b[0m\u001b[0;34m)\u001b[0m\u001b[0;34m\u001b[0m\u001b[0;34m\u001b[0m\u001b[0m\n\u001b[0;32m---> 16\u001b[0;31m   \u001b[0mfiles\u001b[0m\u001b[0;34m.\u001b[0m\u001b[0mdownload\u001b[0m\u001b[0;34m(\u001b[0m\u001b[0;34m'training-'\u001b[0m \u001b[0;34m+\u001b[0m \u001b[0mstr\u001b[0m\u001b[0;34m(\u001b[0m\u001b[0mx\u001b[0m\u001b[0;34m)\u001b[0m \u001b[0;34m+\u001b[0m\u001b[0;34m'-epochs.png'\u001b[0m\u001b[0;34m)\u001b[0m\u001b[0;34m\u001b[0m\u001b[0;34m\u001b[0m\u001b[0m\n\u001b[0m\u001b[1;32m     17\u001b[0m   \u001b[0mplt\u001b[0m\u001b[0;34m.\u001b[0m\u001b[0mclf\u001b[0m\u001b[0;34m(\u001b[0m\u001b[0;34m)\u001b[0m\u001b[0;34m\u001b[0m\u001b[0;34m\u001b[0m\u001b[0m\n\u001b[1;32m     18\u001b[0m \u001b[0;34m\u001b[0m\u001b[0m\n",
            "\u001b[0;32m/usr/local/lib/python3.6/dist-packages/google/colab/files.py\u001b[0m in \u001b[0;36mdownload\u001b[0;34m(filename)\u001b[0m\n\u001b[1;32m    176\u001b[0m       \u001b[0;34m'port'\u001b[0m\u001b[0;34m:\u001b[0m \u001b[0mport\u001b[0m\u001b[0;34m,\u001b[0m\u001b[0;34m\u001b[0m\u001b[0;34m\u001b[0m\u001b[0m\n\u001b[1;32m    177\u001b[0m       \u001b[0;34m'path'\u001b[0m\u001b[0;34m:\u001b[0m \u001b[0m_os\u001b[0m\u001b[0;34m.\u001b[0m\u001b[0mpath\u001b[0m\u001b[0;34m.\u001b[0m\u001b[0mabspath\u001b[0m\u001b[0;34m(\u001b[0m\u001b[0mfilename\u001b[0m\u001b[0;34m)\u001b[0m\u001b[0;34m,\u001b[0m\u001b[0;34m\u001b[0m\u001b[0;34m\u001b[0m\u001b[0m\n\u001b[0;32m--> 178\u001b[0;31m       \u001b[0;34m'name'\u001b[0m\u001b[0;34m:\u001b[0m \u001b[0m_os\u001b[0m\u001b[0;34m.\u001b[0m\u001b[0mpath\u001b[0m\u001b[0;34m.\u001b[0m\u001b[0mbasename\u001b[0m\u001b[0;34m(\u001b[0m\u001b[0mfilename\u001b[0m\u001b[0;34m)\u001b[0m\u001b[0;34m,\u001b[0m\u001b[0;34m\u001b[0m\u001b[0;34m\u001b[0m\u001b[0m\n\u001b[0m\u001b[1;32m    179\u001b[0m   })\n",
            "\u001b[0;32m/usr/local/lib/python3.6/dist-packages/google/colab/output/_js.py\u001b[0m in \u001b[0;36meval_js\u001b[0;34m(script, ignore_result)\u001b[0m\n\u001b[1;32m     37\u001b[0m   \u001b[0;32mif\u001b[0m \u001b[0mignore_result\u001b[0m\u001b[0;34m:\u001b[0m\u001b[0;34m\u001b[0m\u001b[0;34m\u001b[0m\u001b[0m\n\u001b[1;32m     38\u001b[0m     \u001b[0;32mreturn\u001b[0m\u001b[0;34m\u001b[0m\u001b[0;34m\u001b[0m\u001b[0m\n\u001b[0;32m---> 39\u001b[0;31m   \u001b[0;32mreturn\u001b[0m \u001b[0m_message\u001b[0m\u001b[0;34m.\u001b[0m\u001b[0mread_reply_from_input\u001b[0m\u001b[0;34m(\u001b[0m\u001b[0mrequest_id\u001b[0m\u001b[0;34m)\u001b[0m\u001b[0;34m\u001b[0m\u001b[0;34m\u001b[0m\u001b[0m\n\u001b[0m\u001b[1;32m     40\u001b[0m \u001b[0;34m\u001b[0m\u001b[0m\n\u001b[1;32m     41\u001b[0m \u001b[0;34m\u001b[0m\u001b[0m\n",
            "\u001b[0;32m/usr/local/lib/python3.6/dist-packages/google/colab/_message.py\u001b[0m in \u001b[0;36mread_reply_from_input\u001b[0;34m(message_id, timeout_sec)\u001b[0m\n\u001b[1;32m     99\u001b[0m     \u001b[0mreply\u001b[0m \u001b[0;34m=\u001b[0m \u001b[0m_read_next_input_message\u001b[0m\u001b[0;34m(\u001b[0m\u001b[0;34m)\u001b[0m\u001b[0;34m\u001b[0m\u001b[0;34m\u001b[0m\u001b[0m\n\u001b[1;32m    100\u001b[0m     \u001b[0;32mif\u001b[0m \u001b[0mreply\u001b[0m \u001b[0;34m==\u001b[0m \u001b[0m_NOT_READY\u001b[0m \u001b[0;32mor\u001b[0m \u001b[0;32mnot\u001b[0m \u001b[0misinstance\u001b[0m\u001b[0;34m(\u001b[0m\u001b[0mreply\u001b[0m\u001b[0;34m,\u001b[0m \u001b[0mdict\u001b[0m\u001b[0;34m)\u001b[0m\u001b[0;34m:\u001b[0m\u001b[0;34m\u001b[0m\u001b[0;34m\u001b[0m\u001b[0m\n\u001b[0;32m--> 101\u001b[0;31m       \u001b[0mtime\u001b[0m\u001b[0;34m.\u001b[0m\u001b[0msleep\u001b[0m\u001b[0;34m(\u001b[0m\u001b[0;36m0.025\u001b[0m\u001b[0;34m)\u001b[0m\u001b[0;34m\u001b[0m\u001b[0;34m\u001b[0m\u001b[0m\n\u001b[0m\u001b[1;32m    102\u001b[0m       \u001b[0;32mcontinue\u001b[0m\u001b[0;34m\u001b[0m\u001b[0;34m\u001b[0m\u001b[0m\n\u001b[1;32m    103\u001b[0m     if (reply.get('type') == 'colab_reply' and\n",
            "\u001b[0;31mKeyboardInterrupt\u001b[0m: "
          ]
        },
        {
          "output_type": "display_data",
          "data": {
            "image/png": "[encoded data removed]",
            "text/plain": [
              "<Figure size 432x288 with 1 Axes>"
            ]
          },
          "metadata": {
            "tags": []
          }
        }
      ]
    }
  ]
}